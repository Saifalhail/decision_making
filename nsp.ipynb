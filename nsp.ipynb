{
  "cells": [
    {
      "cell_type": "code",
      "execution_count": null,
      "metadata": {
        "colab": {
          "base_uri": "https://localhost:8080/"
        },
        "id": "GvAzlsTScuxC",
        "outputId": "0ed846d8-3909-47ee-8e99-28e7aad6d68f"
      },
      "outputs": [
        {
          "output_type": "stream",
          "name": "stdout",
          "text": [
            "Collecting deap\n",
            "  Downloading deap-1.3.1-cp37-cp37m-manylinux_2_5_x86_64.manylinux1_x86_64.manylinux_2_12_x86_64.manylinux2010_x86_64.whl (160 kB)\n",
            "\u001b[?25l\r\u001b[K     |██                              | 10 kB 23.8 MB/s eta 0:00:01\r\u001b[K     |████                            | 20 kB 29.6 MB/s eta 0:00:01\r\u001b[K     |██████                          | 30 kB 33.7 MB/s eta 0:00:01\r\u001b[K     |████████▏                       | 40 kB 19.0 MB/s eta 0:00:01\r\u001b[K     |██████████▏                     | 51 kB 13.5 MB/s eta 0:00:01\r\u001b[K     |████████████▏                   | 61 kB 15.6 MB/s eta 0:00:01\r\u001b[K     |██████████████▎                 | 71 kB 14.5 MB/s eta 0:00:01\r\u001b[K     |████████████████▎               | 81 kB 15.5 MB/s eta 0:00:01\r\u001b[K     |██████████████████▎             | 92 kB 17.0 MB/s eta 0:00:01\r\u001b[K     |████████████████████▍           | 102 kB 15.6 MB/s eta 0:00:01\r\u001b[K     |██████████████████████▍         | 112 kB 15.6 MB/s eta 0:00:01\r\u001b[K     |████████████████████████▍       | 122 kB 15.6 MB/s eta 0:00:01\r\u001b[K     |██████████████████████████▌     | 133 kB 15.6 MB/s eta 0:00:01\r\u001b[K     |████████████████████████████▌   | 143 kB 15.6 MB/s eta 0:00:01\r\u001b[K     |██████████████████████████████▌ | 153 kB 15.6 MB/s eta 0:00:01\r\u001b[K     |████████████████████████████████| 160 kB 15.6 MB/s \n",
            "\u001b[?25hRequirement already satisfied: numpy in /usr/local/lib/python3.7/dist-packages (from deap) (1.21.5)\n",
            "Installing collected packages: deap\n",
            "Successfully installed deap-1.3.1\n"
          ]
        }
      ],
      "source": [
        "! pip install deap"
      ]
    },
    {
      "cell_type": "code",
      "execution_count": null,
      "metadata": {
        "id": "EyUPYx-RcuxL"
      },
      "outputs": [],
      "source": [
        "list_of_nurses = ['A','B','C','D','E','F','G','H']\n",
        "\n",
        "# nurses' respective shift preferences - morning,evening,night\n",
        "# assuming it's daily preference\n",
        "shiftPreferences = [\n",
        "    [1,0,0],\n",
        "    [1,1,0],\n",
        "    [0,0,1],\n",
        "    [0,1,0],\n",
        "    [0,1,0],\n",
        "    [0,1,1],\n",
        "    [1,1,1],\n",
        "    [0,1,0]\n",
        "]\n",
        "# min and max number of nurses allowed for each shift - morning, evening, night\n",
        "shiftMin = [2,2,1]\n",
        "shiftMax = [3,4,2]\n",
        "\n",
        "# max shifts per week allowed for each nurse\n",
        "maxShiftsPerWeek = 5\n",
        "\n",
        "# number of weeks we create a schedule for:\n",
        "weeks = 1\n",
        "\n",
        "# useful values\n",
        "shiftsPerDay = len(shiftMin)\n",
        "shiftsPerWeek = 7 * shiftsPerDay"
      ]
    },
    {
      "cell_type": "code",
      "execution_count": null,
      "metadata": {
        "id": "jb7CnsKBcuxN"
      },
      "outputs": [],
      "source": [
        "def getNurseShift(schedule):\n",
        "    \"\"\"\n",
        "    Converts the entire schedule into a dictionary with a separate schedule for each nurse\n",
        "    :param schedule: a list of binary values describing the given schedule\n",
        "    :return: a dictionary with each nurse as a key and the corresponding shifts as the value\n",
        "    \"\"\"\n",
        "    shiftsPerNurse = len(schedule)//len(list_of_nurses)  # for our case here, we have 21 shifts per nurse\n",
        "    nurseShiftsDict = {}\n",
        "    shiftIndex = 0\n",
        "    for nurse in list_of_nurses:\n",
        "        nurseShiftsDict[nurse] = schedule[shiftIndex: (shiftIndex + shiftsPerNurse)]\n",
        "        shiftIndex += shiftsPerNurse\n",
        "    return nurseShiftsDict"
      ]
    },
    {
      "cell_type": "code",
      "execution_count": null,
      "metadata": {
        "id": "7nAir3SVcuxO"
      },
      "outputs": [],
      "source": [
        "def countConsecutiveShiftViolations(nurseShiftsDict):\n",
        "    \"\"\"\n",
        "    Counts the consecutive shift violations in the schedule\n",
        "    :param nurseShiftsDict: a dictionary with a separate schedule for each nurse\n",
        "    :return: count of violations found\n",
        "    \"\"\"\n",
        "    violations = 0\n",
        "    # iterate over the shifts of each nurse:\n",
        "    for nurseShifts in nurseShiftsDict.values():\n",
        "        # look for two cosecutive '1's:\n",
        "        for shift1, shift2 in zip(nurseShifts, nurseShifts[1:]):\n",
        "            if shift1 == 1 and shift2 == 1:\n",
        "                violations += 1\n",
        "    return violations"
      ]
    },
    {
      "cell_type": "code",
      "execution_count": null,
      "metadata": {
        "colab": {
          "base_uri": "https://localhost:8080/"
        },
        "id": "4l1Aa4uJcuxP",
        "outputId": "01c5a67b-605f-4bc2-b16d-f502ad1e8df0"
      },
      "outputs": [
        {
          "output_type": "stream",
          "name": "stdout",
          "text": [
            "1 2\n",
            "2 3\n",
            "3 4\n"
          ]
        }
      ],
      "source": [
        "a = [1,2,3,4]\n",
        "\n",
        "for s1, s2 in zip(a, a[1:]):\n",
        "    print(s1, s2)"
      ]
    },
    {
      "cell_type": "code",
      "execution_count": null,
      "metadata": {
        "id": "8CHEPgwpcuxR"
      },
      "outputs": [],
      "source": [
        "def countShiftsPerWeekViolations(nurseShiftsDict):\n",
        "    \"\"\"\n",
        "    Counts the max-shifts-per-week violations in the schedule\n",
        "    :param nurseShiftsDict: a dictionary with a separate schedule for each nurse\n",
        "    :return: count of violations found\n",
        "    \"\"\"\n",
        "    violations = 0\n",
        "    weeklyShiftsList = []\n",
        "    # iterate over the shifts of each nurse:\n",
        "    for nurseShifts in nurseShiftsDict.values():  # all shifts of a single nurse\n",
        "        # iterate over the shifts of each weeks:\n",
        "        for i in range(0, weeks*shiftsPerWeek, shiftsPerWeek):\n",
        "            # shiftsPerWeek is 21 (3 shifts per day*7)\n",
        "            # count all the '1's over the week:\n",
        "            weeklyShifts = sum(nurseShifts[i:i + shiftsPerWeek])\n",
        "            weeklyShiftsList.append(weeklyShifts)\n",
        "            if weeklyShifts > maxShiftsPerWeek:\n",
        "                violations += weeklyShifts - maxShiftsPerWeek\n",
        "\n",
        "    return weeklyShiftsList, violations"
      ]
    },
    {
      "cell_type": "code",
      "execution_count": null,
      "metadata": {
        "colab": {
          "base_uri": "https://localhost:8080/"
        },
        "id": "edkA6hnLcuxT",
        "outputId": "133faddb-c87e-470f-c621-767d514fa469"
      },
      "outputs": [
        {
          "output_type": "stream",
          "name": "stdout",
          "text": [
            "0 7\n",
            "7 14\n"
          ]
        }
      ],
      "source": [
        "for i in range(0,2*7,7): # <- assuming we have a 2-week schedule\n",
        "    print(i, i+7)"
      ]
    },
    {
      "cell_type": "code",
      "execution_count": null,
      "metadata": {
        "id": "2sIpvwHtcuxU"
      },
      "outputs": [],
      "source": [
        "def countNursesPerShiftViolations(nurseShiftsDict):\n",
        "    \"\"\"\n",
        "    Counts the number-of-nurses-per-shift violations in the schedule\n",
        "    :param nurseShiftsDict: a dictionary with a separate schedule for each nurse\n",
        "    :return: count of violations found\n",
        "    \"\"\"\n",
        "    # sum the shifts over all nurses:\n",
        "    totalPerShiftList = [sum(shift) for shift in zip(*nurseShiftsDict.values())]\n",
        "\n",
        "    violations = 0\n",
        "    # iterate over all shifts and count violations:\n",
        "    for shiftIndex, numOfNurses in enumerate(totalPerShiftList):\n",
        "        # (0%3, 1%3, 3%3)\n",
        "        dailyShiftIndex = shiftIndex % shiftsPerDay  # -> 0, 1, or 2 for the 3 shifts per day\n",
        "        if (numOfNurses > shiftMax[dailyShiftIndex]):\n",
        "            violations += numOfNurses - shiftMax[dailyShiftIndex]\n",
        "        elif (numOfNurses < shiftMin[dailyShiftIndex]):\n",
        "            violations += shiftMin[dailyShiftIndex] - numOfNurses\n",
        "\n",
        "    return totalPerShiftList, violations"
      ]
    },
    {
      "cell_type": "code",
      "execution_count": null,
      "metadata": {
        "colab": {
          "base_uri": "https://localhost:8080/"
        },
        "id": "Mjz4h5C_cuxV",
        "outputId": "797daf7a-4e81-4e7d-8590-5278fbf949f4"
      },
      "outputs": [
        {
          "output_type": "stream",
          "name": "stdout",
          "text": [
            "(1, 1, 0)\n",
            "(0, 0, 0)\n",
            "(1, 1, 0)\n",
            "(1, 0, 1)\n",
            "(0, 0, 0)\n"
          ]
        }
      ],
      "source": [
        "sample_dict = {\n",
        "    'A': [1,0,1,1,0],\n",
        "    'B': [1,0,1,0,0],\n",
        "    'C': [0,0,0,1,0],\n",
        "}\n",
        "for i in zip(*sample_dict.values()):\n",
        "    print(i)"
      ]
    },
    {
      "cell_type": "code",
      "execution_count": null,
      "metadata": {
        "colab": {
          "base_uri": "https://localhost:8080/"
        },
        "id": "fEZF8bHicuxX",
        "outputId": "ae67a5e7-c62c-4ce5-fb3f-c8aee7ba821b"
      },
      "outputs": [
        {
          "output_type": "execute_result",
          "data": {
            "text/plain": [
              "[2, 0, 2, 2, 0]"
            ]
          },
          "metadata": {},
          "execution_count": 10
        }
      ],
      "source": [
        "[sum(shift) for shift in zip(*sample_dict.values())]"
      ]
    },
    {
      "cell_type": "code",
      "execution_count": null,
      "metadata": {
        "colab": {
          "base_uri": "https://localhost:8080/"
        },
        "id": "HDS9MC3DcuxX",
        "outputId": "ad9241d6-f2ac-4020-e9e7-1336c2235bf2"
      },
      "outputs": [
        {
          "output_type": "stream",
          "name": "stdout",
          "text": [
            "0\n",
            "1\n",
            "2\n",
            "0\n",
            "1\n",
            "2\n",
            "Max shift for morning: 3\n",
            "Max shift for evening: 4\n",
            "Max shift for night: 2\n"
          ]
        }
      ],
      "source": [
        "print(0%3)\n",
        "print(1%3)\n",
        "print(2%3)\n",
        "print(3%3)\n",
        "print(4%3)\n",
        "print(5%3)\n",
        "print(f\"Max shift for morning: {shiftMax[0]}\")\n",
        "print(f\"Max shift for evening: {shiftMax[1]}\")\n",
        "print(f\"Max shift for night: {shiftMax[2]}\")"
      ]
    },
    {
      "cell_type": "code",
      "execution_count": null,
      "metadata": {
        "id": "tifVV4CbcuxY"
      },
      "outputs": [],
      "source": [
        "def countShiftPreferenceViolations(nurseShiftsDict):\n",
        "    \"\"\"\n",
        "    Counts the nurse-preferences violations in the schedule\n",
        "    :param nurseShiftsDict: a dictionary with a separate schedule for each nurse\n",
        "    :return: count of violations found\n",
        "    \"\"\"\n",
        "    violations = 0\n",
        "    for nurseIndex, shiftPref in enumerate(shiftPreferences):\n",
        "        # duplicate the shift-preference over the days of the period\n",
        "        preference = shiftPref * (shiftsPerWeek // shiftsPerDay)\n",
        "        # iterate over the shifts and compare to preferences:\n",
        "        shifts = nurseShiftsDict[list_of_nurses[nurseIndex]]\n",
        "        for pref, shift in zip(preference, shifts):\n",
        "            if pref == 0 and shift == 1: # only when the preference is zero but shift is one, violation counts\n",
        "                violations += 1\n",
        "\n",
        "    return violations"
      ]
    },
    {
      "cell_type": "code",
      "execution_count": null,
      "metadata": {
        "colab": {
          "base_uri": "https://localhost:8080/"
        },
        "id": "9CFAERuLcuxZ",
        "outputId": "7aa9e989-d1a2-4ec1-beb0-267822eaec30"
      },
      "outputs": [
        {
          "output_type": "stream",
          "name": "stdout",
          "text": [
            "[[1, 0, 0], [1, 1, 0], [0, 0, 1], [0, 1, 0], [0, 1, 0], [0, 1, 1], [1, 1, 1], [0, 1, 0]]\n",
            "shifts per week: 21\n",
            "shifts per day: 3\n",
            "7\n"
          ]
        }
      ],
      "source": [
        "print(shiftPreferences)\n",
        "print(f'shifts per week: {shiftsPerWeek}')\n",
        "print(f'shifts per day: {shiftsPerDay}')\n",
        "print((shiftsPerWeek // shiftsPerDay))"
      ]
    },
    {
      "cell_type": "code",
      "execution_count": null,
      "metadata": {
        "id": "-qsACqxmcuxa"
      },
      "outputs": [],
      "source": [
        "def printScheduleInfo(schedule):\n",
        "    \"\"\"\n",
        "    Prints the schedule and violations details\n",
        "    :param schedule: a list of binary values describing the given schedule\n",
        "    \"\"\"\n",
        "    nurseShiftsDict = getNurseShift(schedule)\n",
        "\n",
        "    print(\"Schedule for each nurse:\")\n",
        "    for nurse in nurseShiftsDict:  # all shifts of a single nurse\n",
        "        print(nurse, \":\", nurseShiftsDict[nurse])\n",
        "\n",
        "    print(\"consecutive shift violations = \", countConsecutiveShiftViolations(nurseShiftsDict))\n",
        "    print()\n",
        "\n",
        "    weeklyShiftsList, violations = countShiftsPerWeekViolations(nurseShiftsDict)\n",
        "    print(\"weekly Shifts = \", weeklyShiftsList)\n",
        "    print(\"Shifts Per Week Violations = \", violations)\n",
        "    print()\n",
        "\n",
        "    totalPerShiftList, violations = countNursesPerShiftViolations(nurseShiftsDict)\n",
        "    print(\"Nurses Per Shift = \", totalPerShiftList)\n",
        "    print(\"Nurses Per Shift Violations = \", violations)\n",
        "    print()\n",
        "\n",
        "    shiftPreferenceViolations = countShiftPreferenceViolations(nurseShiftsDict)\n",
        "    print(\"Shift Preference Violations = \", shiftPreferenceViolations)\n",
        "    print()"
      ]
    },
    {
      "cell_type": "code",
      "execution_count": null,
      "metadata": {
        "id": "ktac4ko7cuxa"
      },
      "outputs": [],
      "source": [
        "def getCost(schedule):\n",
        "    \"\"\"\n",
        "    Calculates the total cost of the various violations in the given schedule\n",
        "    ...\n",
        "    :param schedule: a list of binary values describing the given schedule\n",
        "    :return: the calculated cost\n",
        "    \"\"\"\n",
        "\n",
        "    # convert entire schedule into a dictionary with a separate schedule for each nurse:\n",
        "    nurseShiftsDict = getNurseShift(schedule)\n",
        "\n",
        "    # count the various violations:\n",
        "    consecutiveShiftViolations = countConsecutiveShiftViolations(nurseShiftsDict)\n",
        "    shiftsPerWeekViolations = countShiftsPerWeekViolations(nurseShiftsDict)[1]\n",
        "    nursesPerShiftViolations = countNursesPerShiftViolations(nurseShiftsDict)[1]\n",
        "    shiftPreferenceViolations = countShiftPreferenceViolations(nurseShiftsDict)\n",
        "\n",
        "    # calculate the cost of the violations:\n",
        "    hardContstraintViolations = consecutiveShiftViolations + nursesPerShiftViolations + shiftsPerWeekViolations\n",
        "    softContstraintViolations = shiftPreferenceViolations\n",
        "\n",
        "    return HARD_CONSTRAINT_PENALTY * hardContstraintViolations + softContstraintViolations"
      ]
    },
    {
      "cell_type": "markdown",
      "metadata": {
        "id": "SphAnzktcuxb"
      },
      "source": [
        "### elitism strategy"
      ]
    },
    {
      "cell_type": "code",
      "execution_count": null,
      "metadata": {
        "id": "Il_I7x_Xcuxe"
      },
      "outputs": [],
      "source": [
        "from deap import tools\n",
        "from deap import algorithms\n",
        "\n",
        "def eaSimpleWithElitism(\n",
        "    population,\n",
        "    toolbox,\n",
        "    cxpb,\n",
        "    mutpb,\n",
        "    ngen,\n",
        "    stats=None,\n",
        "    halloffame=None,\n",
        "    verbose=__debug__,\n",
        "):\n",
        "    \"\"\"This algorithm is similar to DEAP eaSimple() algorithm, with the modification that\n",
        "    halloffame is used to implement an elitism mechanism. The individuals contained in the\n",
        "    halloffame are directly injected into the next generation and are not subject to the\n",
        "    genetic operators of selection, crossover and mutation.\n",
        "    \"\"\"\n",
        "    logbook = tools.Logbook()\n",
        "    logbook.header = [\"gen\", \"nevals\"] + (stats.fields if stats else [])\n",
        "\n",
        "    # Evaluate the individuals with an invalid fitness\n",
        "    invalid_ind = [ind for ind in population if not ind.fitness.valid]\n",
        "    fitnesses = toolbox.map(toolbox.evaluate, invalid_ind)\n",
        "    for ind, fit in zip(invalid_ind, fitnesses):\n",
        "        ind.fitness.values = fit\n",
        "\n",
        "    if halloffame is None:\n",
        "        raise ValueError(\"halloffame parameter must not be empty!\")\n",
        "\n",
        "    halloffame.update(population)\n",
        "    hof_size = len(halloffame.items) if halloffame.items else 0\n",
        "\n",
        "    record = stats.compile(population) if stats else {}\n",
        "    logbook.record(gen=0, nevals=len(invalid_ind), **record)\n",
        "    if verbose:\n",
        "        print(logbook.stream)\n",
        "\n",
        "    # Begin the generational process\n",
        "    for gen in range(1, ngen + 1):\n",
        "\n",
        "        # Select the next generation individuals\n",
        "        offspring = toolbox.select(population, len(population) - hof_size)\n",
        "\n",
        "        # Vary the pool of individuals\n",
        "        offspring = algorithms.varAnd(offspring, toolbox, cxpb, mutpb)\n",
        "\n",
        "        # Evaluate the individuals with an invalid fitness\n",
        "        invalid_ind = [ind for ind in offspring if not ind.fitness.valid]\n",
        "        fitnesses = toolbox.map(toolbox.evaluate, invalid_ind)\n",
        "        for ind, fit in zip(invalid_ind, fitnesses):\n",
        "            ind.fitness.values = fit\n",
        "\n",
        "        # add the best back to population:\n",
        "        offspring.extend(halloffame.items)\n",
        "\n",
        "        # Update the hall of fame with the generated individuals\n",
        "        halloffame.update(offspring)\n",
        "\n",
        "        # Replace the current population by the offspring\n",
        "        population[:] = offspring\n",
        "\n",
        "        # Append the current generation statistics to the logbook\n",
        "        record = stats.compile(population) if stats else {}\n",
        "        logbook.record(gen=gen, nevals=len(invalid_ind), **record)\n",
        "        if verbose:\n",
        "            print(logbook.stream)\n",
        "\n",
        "    return population, logbook\n"
      ]
    },
    {
      "cell_type": "code",
      "execution_count": null,
      "metadata": {
        "id": "ZY8mlPTZcuxf"
      },
      "outputs": [],
      "source": [
        "from deap import base, creator, tools, algorithms\n",
        "import random\n",
        "import numpy as np\n",
        "import seaborn as sns\n",
        "import matplotlib.pyplot as plt\n",
        "# import elitism\n",
        "\n",
        "# problem constants:\n",
        "HARD_CONSTRAINT_PENALTY = 2  # the penalty factor for a hard-constraint violation\n",
        "\n",
        "RANDOM_SEED = 33\n",
        "random.seed(RANDOM_SEED)"
      ]
    },
    {
      "cell_type": "code",
      "execution_count": null,
      "metadata": {
        "id": "39n4VMVicuxg"
      },
      "outputs": [],
      "source": [
        "# define a single objective, maximizing fitness strategy:\n",
        "creator.create(\"FitnessMin\", base.Fitness, weights=(-1.0,))\n",
        "\n",
        "# create the Individual class based on list:\n",
        "creator.create(\"Individual\", list, fitness=creator.FitnessMin)"
      ]
    },
    {
      "cell_type": "code",
      "execution_count": null,
      "metadata": {
        "id": "j8P8jh4Acuxh"
      },
      "outputs": [],
      "source": [
        "toolbox = base.Toolbox()\n",
        "\n",
        "nsp_length = len(list_of_nurses)*shiftsPerWeek*weeks # 8*21 = 168\n",
        "\n",
        "# create an operator that randomly returns 0 or 1:\n",
        "toolbox.register(\"zeroOrOne\", random.randint, 0, 1)\n",
        "# create the individual operator to fill up an Individual instance:\n",
        "toolbox.register(\"individualCreator\", tools.initRepeat, creator.Individual, toolbox.zeroOrOne, nsp_length)\n",
        "# create the population operator to generate a list of individuals:\n",
        "toolbox.register(\"populationCreator\", tools.initRepeat, list, toolbox.individualCreator)"
      ]
    },
    {
      "cell_type": "code",
      "execution_count": null,
      "metadata": {
        "id": "a5Efs1Q5cuxi"
      },
      "outputs": [],
      "source": [
        "# fitness calculation\n",
        "def fitness_func(individual):\n",
        "    return getCost(individual),  # return a tuple\n",
        "\n",
        "toolbox.register(\"evaluate\", fitness_func)"
      ]
    },
    {
      "cell_type": "code",
      "execution_count": null,
      "metadata": {
        "id": "Ci8vMQH6cuxj"
      },
      "outputs": [],
      "source": [
        "# genetic operators:\n",
        "toolbox.register(\"select\", tools.selTournament, tournsize=2)\n",
        "toolbox.register(\"mate\", tools.cxTwoPoint)\n",
        "toolbox.register(\"mutate\", tools.mutFlipBit, indpb=1.0/nsp_length)"
      ]
    },
    {
      "cell_type": "code",
      "execution_count": null,
      "metadata": {
        "id": "CJqhbXSecuxk"
      },
      "outputs": [],
      "source": [
        "# Genetic Algorithm constants:\n",
        "POPULATION_SIZE = 300\n",
        "P_CROSSOVER = 0.9  # probability for crossover\n",
        "P_MUTATION = 0.1   # probability for mutating an individual\n",
        "MAX_GENERATIONS = 200\n",
        "HALL_OF_FAME_SIZE = 30"
      ]
    },
    {
      "cell_type": "code",
      "execution_count": null,
      "metadata": {
        "id": "9856U3pWcuxl"
      },
      "outputs": [],
      "source": [
        "population = toolbox.populationCreator(n=POPULATION_SIZE)\n",
        "\n",
        "# prepare the statistics object:\n",
        "stats = tools.Statistics(lambda ind: ind.fitness.values)\n",
        "stats.register(\"min\", np.min)\n",
        "stats.register(\"avg\", np.mean)"
      ]
    },
    {
      "cell_type": "code",
      "execution_count": null,
      "metadata": {
        "colab": {
          "base_uri": "https://localhost:8080/"
        },
        "id": "6a-IeD-Kcuxl",
        "outputId": "2e0d0324-8122-436c-871b-1eb7c8b81c87"
      },
      "outputs": [
        {
          "output_type": "stream",
          "name": "stdout",
          "text": [
            "gen\tnevals\tmin\tavg   \n",
            "0  \t300   \t160\t265.89\n",
            "1  \t245   \t157\t239.383\n",
            "2  \t243   \t143\t216.167\n",
            "3  \t240   \t124\t195.833\n",
            "4  \t246   \t112\t178.483\n",
            "5  \t242   \t101\t159.723\n",
            "6  \t234   \t101\t144.383\n",
            "7  \t241   \t84 \t131.693\n",
            "8  \t246   \t81 \t118.897\n",
            "9  \t250   \t70 \t108.237\n",
            "10 \t250   \t53 \t98.7633\n",
            "11 \t248   \t53 \t89.01  \n",
            "12 \t249   \t53 \t80.9567\n",
            "13 \t252   \t49 \t73.87  \n",
            "14 \t250   \t46 \t68.11  \n",
            "15 \t247   \t39 \t62.2967\n",
            "16 \t245   \t37 \t56.6533\n",
            "17 \t240   \t33 \t51.41  \n",
            "18 \t240   \t33 \t47.98  \n",
            "19 \t249   \t30 \t44.8233\n",
            "20 \t253   \t26 \t41.81  \n",
            "21 \t250   \t26 \t38.2667\n",
            "22 \t250   \t25 \t35.5167\n",
            "23 \t245   \t23 \t33.1767\n",
            "24 \t248   \t20 \t31.29  \n",
            "25 \t232   \t20 \t28.9267\n",
            "26 \t244   \t18 \t27.4767\n",
            "27 \t246   \t18 \t25.8667\n",
            "28 \t237   \t18 \t24.21  \n",
            "29 \t252   \t17 \t23.0733\n",
            "30 \t249   \t16 \t22.02  \n",
            "31 \t238   \t14 \t20.9567\n",
            "32 \t253   \t14 \t19.7833\n",
            "33 \t239   \t14 \t18.8467\n",
            "34 \t258   \t13 \t17.9167\n",
            "35 \t254   \t12 \t17.3933\n",
            "36 \t256   \t12 \t16.5267\n",
            "37 \t237   \t11 \t15.5967\n",
            "38 \t256   \t11 \t14.8167\n",
            "39 \t236   \t10 \t14.06  \n",
            "40 \t255   \t10 \t13.4433\n",
            "41 \t247   \t10 \t12.91  \n",
            "42 \t250   \t10 \t12.5433\n",
            "43 \t232   \t10 \t12.0333\n",
            "44 \t247   \t10 \t11.8633\n",
            "45 \t242   \t10 \t11.8567\n",
            "46 \t247   \t10 \t11.6467\n",
            "47 \t250   \t9  \t11.3167\n",
            "48 \t234   \t9  \t11.11  \n",
            "49 \t254   \t9  \t11.01  \n",
            "50 \t239   \t8  \t10.7133\n",
            "51 \t245   \t8  \t10.5667\n",
            "52 \t252   \t8  \t10.13  \n",
            "53 \t233   \t8  \t9.81333\n",
            "54 \t233   \t8  \t9.64   \n",
            "55 \t239   \t8  \t9.42333\n",
            "56 \t257   \t8  \t9.02667\n",
            "57 \t247   \t8  \t9.07333\n",
            "58 \t255   \t8  \t8.68   \n",
            "59 \t252   \t8  \t8.66333\n",
            "60 \t247   \t8  \t8.41   \n",
            "61 \t230   \t8  \t8.37   \n",
            "62 \t248   \t8  \t8.28   \n",
            "63 \t248   \t8  \t8.29667\n",
            "64 \t241   \t8  \t8.37667\n",
            "65 \t246   \t8  \t8.28667\n",
            "66 \t241   \t8  \t8.34   \n",
            "67 \t252   \t8  \t8.45333\n",
            "68 \t257   \t8  \t8.29333\n",
            "69 \t239   \t8  \t8.28   \n",
            "70 \t252   \t8  \t8.45333\n",
            "71 \t250   \t8  \t8.4    \n",
            "72 \t252   \t8  \t8.36667\n",
            "73 \t250   \t8  \t8.28   \n",
            "74 \t248   \t8  \t8.46667\n",
            "75 \t249   \t8  \t8.36333\n",
            "76 \t241   \t8  \t8.35   \n",
            "77 \t236   \t7  \t8.43333\n",
            "78 \t248   \t7  \t8.41333\n",
            "79 \t254   \t7  \t8.2    \n",
            "80 \t256   \t7  \t8.43   \n",
            "81 \t242   \t7  \t8.24   \n",
            "82 \t249   \t7  \t8.36333\n",
            "83 \t256   \t7  \t8.27333\n",
            "84 \t251   \t7  \t8.14   \n",
            "85 \t249   \t7  \t8.12667\n",
            "86 \t248   \t7  \t8.04667\n",
            "87 \t254   \t7  \t7.84333\n",
            "88 \t245   \t7  \t7.63   \n",
            "89 \t249   \t7  \t7.43333\n",
            "90 \t259   \t7  \t7.48667\n",
            "91 \t248   \t7  \t7.28333\n",
            "92 \t249   \t6  \t7.31   \n",
            "93 \t246   \t6  \t7.34   \n",
            "94 \t256   \t6  \t7.21333\n",
            "95 \t227   \t6  \t7.35667\n",
            "96 \t246   \t6  \t7.32333\n",
            "97 \t256   \t6  \t7.23   \n",
            "98 \t245   \t6  \t7.28   \n",
            "99 \t257   \t6  \t7.15333\n",
            "100\t242   \t6  \t7.13333\n",
            "101\t247   \t6  \t6.95   \n",
            "102\t239   \t6  \t6.78333\n",
            "103\t241   \t6  \t6.55667\n",
            "104\t246   \t6  \t6.29667\n",
            "105\t249   \t6  \t6.35333\n",
            "106\t234   \t6  \t6.43333\n",
            "107\t258   \t6  \t6.3    \n",
            "108\t240   \t6  \t6.17333\n",
            "109\t240   \t6  \t6.22667\n",
            "110\t254   \t6  \t6.26333\n",
            "111\t243   \t6  \t6.24333\n",
            "112\t252   \t6  \t6.28333\n",
            "113\t247   \t6  \t6.31333\n",
            "114\t244   \t6  \t6.31   \n",
            "115\t248   \t6  \t6.31   \n",
            "116\t242   \t6  \t6.54667\n",
            "117\t251   \t5  \t6.36667\n",
            "118\t241   \t5  \t6.44667\n",
            "119\t242   \t5  \t6.24   \n",
            "120\t245   \t5  \t6.18333\n",
            "121\t233   \t5  \t6.26333\n",
            "122\t249   \t5  \t6.12667\n",
            "123\t256   \t5  \t5.97333\n",
            "124\t235   \t5  \t5.86333\n",
            "125\t253   \t5  \t5.68333\n",
            "126\t234   \t5  \t5.47333\n",
            "127\t248   \t5  \t5.24   \n",
            "128\t240   \t5  \t5.29333\n",
            "129\t245   \t5  \t5.34333\n",
            "130\t256   \t5  \t5.26   \n",
            "131\t245   \t5  \t5.12333\n",
            "132\t242   \t5  \t5.37333\n",
            "133\t250   \t5  \t5.28333\n",
            "134\t244   \t5  \t5.21333\n",
            "135\t251   \t5  \t5.12333\n",
            "136\t242   \t5  \t5.23   \n",
            "137\t239   \t5  \t5.24333\n",
            "138\t242   \t5  \t5.21   \n",
            "139\t242   \t5  \t5.40333\n",
            "140\t245   \t5  \t5.45333\n",
            "141\t241   \t5  \t5.32667\n",
            "142\t246   \t5  \t5.43667\n",
            "143\t249   \t5  \t5.43667\n",
            "144\t247   \t5  \t5.31333\n",
            "145\t233   \t5  \t5.19   \n",
            "146\t251   \t5  \t5.34667\n",
            "147\t243   \t5  \t5.27   \n",
            "148\t251   \t5  \t5.22   \n",
            "149\t253   \t5  \t5.23667\n",
            "150\t253   \t5  \t5.33333\n",
            "151\t239   \t5  \t5.30333\n",
            "152\t251   \t5  \t5.28333\n",
            "153\t246   \t5  \t5.31333\n",
            "154\t250   \t5  \t5.31667\n",
            "155\t254   \t5  \t5.36333\n",
            "156\t254   \t5  \t5.40667\n",
            "157\t242   \t5  \t5.22667\n",
            "158\t249   \t5  \t5.27   \n",
            "159\t242   \t5  \t5.35   \n",
            "160\t259   \t5  \t5.40667\n",
            "161\t238   \t5  \t5.24667\n",
            "162\t254   \t5  \t5.32333\n",
            "163\t254   \t5  \t5.18667\n",
            "164\t245   \t5  \t5.29   \n",
            "165\t250   \t5  \t5.24333\n",
            "166\t252   \t5  \t5.34   \n",
            "167\t251   \t5  \t5.38333\n",
            "168\t247   \t5  \t5.51667\n",
            "169\t237   \t5  \t5.34667\n",
            "170\t245   \t5  \t5.41   \n",
            "171\t245   \t5  \t5.34667\n",
            "172\t250   \t5  \t5.26333\n",
            "173\t250   \t5  \t5.34333\n",
            "174\t235   \t5  \t5.24333\n",
            "175\t244   \t5  \t5.37   \n",
            "176\t237   \t5  \t5.24333\n",
            "177\t241   \t5  \t5.27667\n",
            "178\t242   \t5  \t5.29   \n",
            "179\t246   \t5  \t5.29   \n",
            "180\t243   \t5  \t5.26667\n",
            "181\t251   \t5  \t5.31667\n",
            "182\t243   \t5  \t5.24   \n",
            "183\t248   \t5  \t5.36333\n",
            "184\t238   \t5  \t5.33333\n",
            "185\t237   \t5  \t5.33333\n",
            "186\t232   \t5  \t5.26333\n",
            "187\t248   \t5  \t5.36667\n",
            "188\t252   \t5  \t5.29333\n",
            "189\t237   \t5  \t5.16667\n",
            "190\t247   \t5  \t5.32333\n",
            "191\t251   \t5  \t5.41   \n",
            "192\t247   \t5  \t5.32   \n",
            "193\t246   \t5  \t5.36   \n",
            "194\t250   \t5  \t5.32333\n",
            "195\t254   \t5  \t5.31667\n",
            "196\t257   \t5  \t5.22333\n",
            "197\t249   \t5  \t5.34667\n",
            "198\t244   \t5  \t5.26   \n",
            "199\t250   \t5  \t5.31333\n",
            "200\t250   \t5  \t5.31667\n"
          ]
        }
      ],
      "source": [
        "# define the hall-of-fame object:\n",
        "hof = tools.HallOfFame(HALL_OF_FAME_SIZE)\n",
        "\n",
        "population, logbook = eaSimpleWithElitism(population, toolbox, cxpb=P_CROSSOVER, mutpb=P_MUTATION,\n",
        "                                              ngen=MAX_GENERATIONS, stats=stats, halloffame=hof, verbose=True)"
      ]
    },
    {
      "cell_type": "code",
      "execution_count": null,
      "metadata": {
        "colab": {
          "base_uri": "https://localhost:8080/"
        },
        "id": "ta-UODa4cuxm",
        "outputId": "6b501ec7-937c-4869-c1e6-97ecca9819c4"
      },
      "outputs": [
        {
          "output_type": "stream",
          "name": "stdout",
          "text": [
            "168\n",
            "-- Best Individual =  [0, 0, 0, 1, 0, 0, 1, 0, 0, 1, 0, 0, 1, 0, 0, 1, 0, 0, 0, 0, 0, 0, 0, 0, 0, 1, 0, 1, 0, 0, 1, 0, 0, 0, 1, 0, 1, 0, 0, 0, 0, 0, 1, 0, 0, 0, 0, 1, 0, 0, 1, 0, 0, 0, 0, 0, 0, 0, 0, 1, 0, 0, 0, 1, 0, 0, 0, 0, 0, 0, 0, 0, 0, 1, 0, 0, 1, 0, 0, 0, 0, 0, 1, 0, 0, 1, 0, 1, 0, 0, 0, 0, 0, 0, 1, 0, 0, 0, 0, 0, 1, 0, 1, 0, 0, 0, 0, 1, 0, 0, 0, 0, 0, 0, 0, 0, 1, 0, 0, 1, 0, 0, 0, 1, 0, 1, 0, 0, 0, 0, 0, 0, 0, 1, 0, 0, 1, 0, 1, 0, 0, 0, 0, 0, 0, 1, 0, 0, 1, 0, 0, 1, 0, 0, 1, 0, 0, 0, 0, 0, 0, 0, 0, 1, 0, 0, 1, 0]\n",
            "-- Best Fitness =  5.0\n",
            "\n",
            "-- Schedule = \n",
            "Schedule for each nurse:\n",
            "A : [0, 0, 0, 1, 0, 0, 1, 0, 0, 1, 0, 0, 1, 0, 0, 1, 0, 0, 0, 0, 0]\n",
            "B : [0, 0, 0, 0, 1, 0, 1, 0, 0, 1, 0, 0, 0, 1, 0, 1, 0, 0, 0, 0, 0]\n",
            "C : [1, 0, 0, 0, 0, 1, 0, 0, 1, 0, 0, 0, 0, 0, 0, 0, 0, 1, 0, 0, 0]\n",
            "D : [1, 0, 0, 0, 0, 0, 0, 0, 0, 0, 1, 0, 0, 1, 0, 0, 0, 0, 0, 1, 0]\n",
            "E : [0, 1, 0, 1, 0, 0, 0, 0, 0, 0, 1, 0, 0, 0, 0, 0, 1, 0, 1, 0, 0]\n",
            "F : [0, 0, 1, 0, 0, 0, 0, 0, 0, 0, 0, 1, 0, 0, 1, 0, 0, 0, 1, 0, 1]\n",
            "G : [0, 0, 0, 0, 0, 0, 0, 1, 0, 0, 1, 0, 1, 0, 0, 0, 0, 0, 0, 1, 0]\n",
            "H : [0, 1, 0, 0, 1, 0, 0, 1, 0, 0, 0, 0, 0, 0, 0, 0, 1, 0, 0, 1, 0]\n",
            "consecutive shift violations =  0\n",
            "\n",
            "weekly Shifts =  [5, 5, 4, 4, 5, 5, 4, 5]\n",
            "Shifts Per Week Violations =  0\n",
            "\n",
            "Nurses Per Shift =  [2, 2, 1, 2, 2, 1, 2, 2, 1, 2, 3, 1, 2, 2, 1, 2, 2, 1, 2, 3, 1]\n",
            "Nurses Per Shift Violations =  0\n",
            "\n",
            "Shift Preference Violations =  5\n",
            "\n"
          ]
        }
      ],
      "source": [
        "# print best solution found:\n",
        "best = hof.items[0]\n",
        "print(len(best))\n",
        "print(\"-- Best Individual = \", best)\n",
        "print(\"-- Best Fitness = \", best.fitness.values[0])\n",
        "print()\n",
        "print(\"-- Schedule = \")\n",
        "printScheduleInfo(best)"
      ]
    },
    {
      "cell_type": "code",
      "execution_count": null,
      "metadata": {
        "colab": {
          "base_uri": "https://localhost:8080/",
          "height": 295
        },
        "id": "mL1U0-rpcuxn",
        "outputId": "38407b23-7d28-4804-fb61-a8bdba6d9d16"
      },
      "outputs": [
        {
          "output_type": "display_data",
          "data": {
            "text/plain": [
              "<Figure size 432x288 with 1 Axes>"
            ],
            "image/png": "[encoded data removed]"
          },
          "metadata": {}
        }
      ],
      "source": [
        "# extract statistics:\n",
        "minFitnessValues, meanFitnessValues = logbook.select(\"min\", \"avg\")\n",
        "\n",
        "# plot statistics:\n",
        "sns.set_style(\"whitegrid\")\n",
        "plt.plot(minFitnessValues, color='red', label='min')\n",
        "plt.plot(meanFitnessValues, color='green', label='mean')\n",
        "plt.xlabel('Generation')\n",
        "plt.ylabel('Min / Average Fitness')\n",
        "plt.title('Min and Average fitness over Generations')\n",
        "plt.legend()\n",
        "plt.show()"
      ]
    },
    {
      "cell_type": "code",
      "execution_count": null,
      "metadata": {
        "id": "j-0E59TFcuxn"
      },
      "outputs": [],
      "source": [
        ""
      ]
    }
  ],
  "metadata": {
    "interpreter": {
      "hash": "a9b7555440ad1f24cf15968322c89ab98970b745f0fa96450ef742960fb680f9"
    },
    "kernelspec": {
      "display_name": "Python 3.9.7 ('pytorch_n')",
      "language": "python",
      "name": "python3"
    },
    "language_info": {
      "codemirror_mode": {
        "name": "ipython",
        "version": 3
      },
      "file_extension": ".py",
      "mimetype": "text/x-python",
      "name": "python",
      "nbconvert_exporter": "python",
      "pygments_lexer": "ipython3",
      "version": "3.8.8"
    },
    "orig_nbformat": 4,
    "colab": {
      "name": "nsp.ipynb",
      "provenance": [],
      "collapsed_sections": []
    }
  },
  "nbformat": 4,
  "nbformat_minor": 0
}